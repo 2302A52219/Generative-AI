{
  "nbformat": 4,
  "nbformat_minor": 0,
  "metadata": {
    "colab": {
      "provenance": [],
      "authorship_tag": "ABX9TyPwAW9MKV0AeR8PBg3//yaD",
      "include_colab_link": true
    },
    "kernelspec": {
      "name": "python3",
      "display_name": "Python 3"
    },
    "language_info": {
      "name": "python"
    }
  },
  "cells": [
    {
      "cell_type": "markdown",
      "metadata": {
        "id": "view-in-github",
        "colab_type": "text"
      },
      "source": [
        "<a href=\"https://colab.research.google.com/github/2302A52219/Generative-AI/blob/main/GAI_ASS6_2.ipynb\" target=\"_parent\"><img src=\"https://colab.research.google.com/assets/colab-badge.svg\" alt=\"Open In Colab\"/></a>"
      ]
    },
    {
      "cell_type": "code",
      "source": [
        "# Import necessary libraries\n",
        "import pandas as pd\n",
        "import joblib\n",
        "from sklearn.model_selection import train_test_split\n",
        "from sklearn.preprocessing import StandardScaler, OneHotEncoder\n",
        "from sklearn.compose import ColumnTransformer\n",
        "from sklearn.ensemble import RandomForestRegressor\n",
        "from sklearn.metrics import mean_squared_error, mean_absolute_error\n",
        "\n",
        "# Load dataset\n",
        "file_path = \"Housing.csv\"\n",
        "df = pd.read_csv(file_path)\n",
        "\n",
        "# Identify numerical and categorical columns\n",
        "num_features = [\"area\", \"bedrooms\", \"bathrooms\", \"stories\", \"parking\"]\n",
        "cat_features = [\"mainroad\", \"guestroom\", \"basement\", \"hotwaterheating\", \"airconditioning\", \"prefarea\", \"furnishingstatus\"]\n",
        "\n",
        "# Define preprocessors\n",
        "preprocessor = ColumnTransformer(\n",
        "    transformers=[\n",
        "        (\"num\", StandardScaler(), num_features),\n",
        "        (\"cat\", OneHotEncoder(drop=\"first\"), cat_features)\n",
        "    ]\n",
        ")\n",
        "\n",
        "# Prepare data\n",
        "X = df.drop(columns=[\"price\"])\n",
        "y = df[\"price\"]\n",
        "X_transformed = preprocessor.fit_transform(X)\n",
        "X_train, X_test, y_train, y_test = train_test_split(X_transformed, y, test_size=0.2, random_state=42)\n",
        "\n",
        "# Train the Random Forest Regressor model\n",
        "rf_model = RandomForestRegressor(n_estimators=100, random_state=42)\n",
        "rf_model.fit(X_train, y_train)\n",
        "\n",
        "# Make predictions\n",
        "y_train_pred = rf_model.predict(X_train)\n",
        "y_test_pred = rf_model.predict(X_test)\n",
        "\n",
        "# Calculate error metrics\n",
        "train_mse = mean_squared_error(y_train, y_train_pred)\n",
        "train_mae = mean_absolute_error(y_train, y_train_pred)\n",
        "test_mse = mean_squared_error(y_test, y_test_pred)\n",
        "test_mae = mean_absolute_error(y_test, y_test_pred)\n",
        "\n",
        "# Save the trained model\n",
        "joblib.dump(rf_model, \"housing_price_model.pkl\")\n",
        "\n",
        "# Print model performance\n",
        "print(f\"Training MSE: {train_mse:.2f}\")\n",
        "print(f\"Training MAE: {train_mae:.2f}\")\n",
        "print(f\"Testing MSE: {test_mse:.2f}\")\n",
        "print(f\"Testing MAE: {test_mae:.2f}\")\n",
        "\n",
        "print(\"Model saved as 'housing_price_model.pkl'.\")\n",
        "import joblib\n",
        "import numpy as np\n",
        "\n",
        "# Load the saved model\n",
        "rf_model = joblib.load(\"housing_price_model.pkl\")\n",
        "\n",
        "# Predict on a new sample (example input with 13 features)\n",
        "new_sample = np.array([X_test[0]])  # Use any sample from X_test\n",
        "predicted_price = rf_model.predict(new_sample)\n",
        "\n",
        "print(\"Predicted Housing Price:\", predicted_price[0])"
      ],
      "metadata": {
        "colab": {
          "base_uri": "https://localhost:8080/"
        },
        "id": "Va2uIvm8c1ng",
        "outputId": "c01f9a89-92c4-4b71-f31a-7c8c56a8bb3a"
      },
      "execution_count": null,
      "outputs": [
        {
          "output_type": "stream",
          "name": "stdout",
          "text": [
            "Training MSE: 153669205868.61\n",
            "Training MAE: 277348.26\n",
            "Testing MSE: 1959406221695.99\n",
            "Testing MAE: 1017470.62\n",
            "Model saved as 'housing_price_model.pkl'.\n",
            "Predicted Housing Price: 5344780.0\n"
          ]
        }
      ]
    }
  ]
}